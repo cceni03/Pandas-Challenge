{
 "cells": [
  {
   "cell_type": "code",
   "execution_count": null,
   "metadata": {},
   "outputs": [],
   "source": [
    "PyCity School Analysis\n",
    "\n",
    "From the analysis the following can be determined:\n",
    "    •   Charter Schools that have a relatively smaller school size have a 90% passing rate than those in District Schools who have higher school sizes and a 50% passing rate. \n",
    "    •   Medium Sized schools have a higher percentage of students that are passing both reading and math. \n",
    "    •   Larger Schools with 2000-5000 have a much lower percentage of students passing than Medium and Small Sized Schools. \n",
    "    •   Math and Reading Scores are generally the same across all grade levels\n"
   ]
  },
  {
   "cell_type": "markdown",
   "metadata": {},
   "source": [
    "### Note\n",
    "* Instructions have been included for each segment. You do not have to follow them exactly, but they are included to help you think through the steps."
   ]
  },
  {
   "cell_type": "code",
   "execution_count": 1,
   "metadata": {},
   "outputs": [],
   "source": [
    "# Dependencies and Setup\n",
    "import pandas as pd"
   ]
  },
  {
   "cell_type": "code",
   "execution_count": 2,
   "metadata": {},
   "outputs": [
    {
     "data": {
      "text/html": [
       "<div>\n",
       "<style scoped>\n",
       "    .dataframe tbody tr th:only-of-type {\n",
       "        vertical-align: middle;\n",
       "    }\n",
       "\n",
       "    .dataframe tbody tr th {\n",
       "        vertical-align: top;\n",
       "    }\n",
       "\n",
       "    .dataframe thead th {\n",
       "        text-align: right;\n",
       "    }\n",
       "</style>\n",
       "<table border=\"1\" class=\"dataframe\">\n",
       "  <thead>\n",
       "    <tr style=\"text-align: right;\">\n",
       "      <th></th>\n",
       "      <th>Student ID</th>\n",
       "      <th>student_name</th>\n",
       "      <th>gender</th>\n",
       "      <th>grade</th>\n",
       "      <th>school_name</th>\n",
       "      <th>reading_score</th>\n",
       "      <th>math_score</th>\n",
       "    </tr>\n",
       "  </thead>\n",
       "  <tbody>\n",
       "    <tr>\n",
       "      <th>0</th>\n",
       "      <td>0</td>\n",
       "      <td>Paul Bradley</td>\n",
       "      <td>M</td>\n",
       "      <td>9th</td>\n",
       "      <td>Huang High School</td>\n",
       "      <td>66</td>\n",
       "      <td>79</td>\n",
       "    </tr>\n",
       "    <tr>\n",
       "      <th>1</th>\n",
       "      <td>1</td>\n",
       "      <td>Victor Smith</td>\n",
       "      <td>M</td>\n",
       "      <td>12th</td>\n",
       "      <td>Huang High School</td>\n",
       "      <td>94</td>\n",
       "      <td>61</td>\n",
       "    </tr>\n",
       "    <tr>\n",
       "      <th>2</th>\n",
       "      <td>2</td>\n",
       "      <td>Kevin Rodriguez</td>\n",
       "      <td>M</td>\n",
       "      <td>12th</td>\n",
       "      <td>Huang High School</td>\n",
       "      <td>90</td>\n",
       "      <td>60</td>\n",
       "    </tr>\n",
       "    <tr>\n",
       "      <th>3</th>\n",
       "      <td>3</td>\n",
       "      <td>Dr. Richard Scott</td>\n",
       "      <td>M</td>\n",
       "      <td>12th</td>\n",
       "      <td>Huang High School</td>\n",
       "      <td>67</td>\n",
       "      <td>58</td>\n",
       "    </tr>\n",
       "    <tr>\n",
       "      <th>4</th>\n",
       "      <td>4</td>\n",
       "      <td>Bonnie Ray</td>\n",
       "      <td>F</td>\n",
       "      <td>9th</td>\n",
       "      <td>Huang High School</td>\n",
       "      <td>97</td>\n",
       "      <td>84</td>\n",
       "    </tr>\n",
       "  </tbody>\n",
       "</table>\n",
       "</div>"
      ],
      "text/plain": [
       "   Student ID       student_name gender grade        school_name  \\\n",
       "0           0       Paul Bradley      M   9th  Huang High School   \n",
       "1           1       Victor Smith      M  12th  Huang High School   \n",
       "2           2    Kevin Rodriguez      M  12th  Huang High School   \n",
       "3           3  Dr. Richard Scott      M  12th  Huang High School   \n",
       "4           4         Bonnie Ray      F   9th  Huang High School   \n",
       "\n",
       "   reading_score  math_score  \n",
       "0             66          79  \n",
       "1             94          61  \n",
       "2             90          60  \n",
       "3             67          58  \n",
       "4             97          84  "
      ]
     },
     "execution_count": 2,
     "metadata": {},
     "output_type": "execute_result"
    }
   ],
   "source": [
    "# File to Load (Remember to Change These)\n",
    "school_data_to_load = \"Resources/schools_complete.csv\"\n",
    "student_data_to_load = \"Resources/students_complete.csv\"\n",
    "\n",
    "# Read School and Student Data File and store into Pandas DataFrames\n",
    "school_data_df = pd.read_csv(school_data_to_load)\n",
    "student_data_df = pd.read_csv(student_data_to_load)\n",
    "\n",
    "# Combine the data into a single dataset.  \n",
    "school_data_complete = pd.merge(student_data_df, school_data_df, how=\"left\", on=[\"school_name\", \"school_name\"])\n",
    "school_data_df.head()\n",
    "student_data_df.head()"
   ]
  },
  {
   "cell_type": "markdown",
   "metadata": {},
   "source": [
    "## District Summary\n",
    "\n",
    "* Calculate the total number of schools\n",
    "\n",
    "* Calculate the total number of students\n",
    "\n",
    "* Calculate the total budget\n",
    "\n",
    "* Calculate the average math score \n",
    "\n",
    "* Calculate the average reading score\n",
    "\n",
    "* Calculate the percentage of students with a passing math score (70 or greater)\n",
    "\n",
    "* Calculate the percentage of students with a passing reading score (70 or greater)\n",
    "\n",
    "* Calculate the percentage of students who passed math **and** reading (% Overall Passing)\n",
    "\n",
    "* Create a dataframe to hold the above results\n",
    "\n",
    "* Optional: give the displayed data cleaner formatting"
   ]
  },
  {
   "cell_type": "code",
   "execution_count": 3,
   "metadata": {},
   "outputs": [
    {
     "ename": "SyntaxError",
     "evalue": "invalid syntax (<ipython-input-3-277fb4bfb418>, line 35)",
     "output_type": "error",
     "traceback": [
      "\u001b[1;36m  File \u001b[1;32m\"<ipython-input-3-277fb4bfb418>\"\u001b[1;36m, line \u001b[1;32m35\u001b[0m\n\u001b[1;33m    district_summary = pd.DataFrame ({\"Total Schools\": [school_count],\u001b[0m\n\u001b[1;37m                   ^\u001b[0m\n\u001b[1;31mSyntaxError\u001b[0m\u001b[1;31m:\u001b[0m invalid syntax\n"
     ]
    }
   ],
   "source": [
    "# Calculate the Total Number of Schools\n",
    "school_count = school_data_complete[\"school_name\"].unique()\n",
    "school_count = len(school_count)\n",
    "school_count\n",
    "\n",
    "# Calculate the Total Number of Students\n",
    "student_count = len(school_data_complete)\n",
    "student_count = school_data_complete[\"Student ID\"].count()\n",
    "student_count\n",
    "\n",
    "# Calculate the Total Budget\n",
    "total_budget = sum(school_data_complete['budget'].unique())\n",
    "total_budget\n",
    "\n",
    "# Average Math Score\n",
    "average_math_score = school_data_complete['math_score'].mean()\n",
    "average_math_score\n",
    "\n",
    "# Average Reading Score\n",
    "average_reading_score = school_data_complete['reading_score'].mean()\n",
    "average_reading_score\n",
    "\n",
    "# % Passing Math\n",
    "passing_math_score = (school_data_complete.loc[school_data_complete['math_score'] >= 70]['math_score'].count()/student_count)*100\n",
    "passing_math_score\n",
    "\n",
    "# % Passing Reading\n",
    "passing_reading_score = (school_data_complete.loc[school_data_complete['reading_score'] >= 70]['reading_score'].count()/student_count)*100\n",
    "passing_reading_score\n",
    "\n",
    "# % Overall Passing Score\n",
    "overall_passing = (school_data_complete.loc[school_data_complete['math_score'] >= 70] & (school_data_complete.loc[school_data_complete['reading_score'] >= 70].count()/2)\n",
    "\n",
    "# District Summary DataFrame\n",
    "district_summary = pd.DataFrame ({\"Total Schools\": [school_count],\n",
    "                                \"Total Students\": '{:,}'.format(student_count),\n",
    "                                \"Total Budget\": '${:,.2f}'.format(total_budget),\n",
    "                                \"Average Math Score\": [average_math_score],\n",
    "                                \"Average Reading Score\": [average_reading_score],\n",
    "                                \"% Passing Math\": [passing_math_score],\n",
    "                                \"% Passing Reading\": [passing_reading_score],\n",
    "                                \"Overall Passing Score\": [overall_passing],\n",
    "                                   })\n",
    "district_summary"
   ]
  },
  {
   "cell_type": "markdown",
   "metadata": {},
   "source": [
    "## School Summary"
   ]
  },
  {
   "cell_type": "markdown",
   "metadata": {},
   "source": [
    "* Create an overview table that summarizes key metrics about each school, including:\n",
    "  * School Name\n",
    "  * School Type\n",
    "  * Total Students\n",
    "  * Total School Budget\n",
    "  * Per Student Budget\n",
    "  * Average Math Score\n",
    "  * Average Reading Score\n",
    "  * % Passing Math\n",
    "  * % Passing Reading\n",
    "  * % Overall Passing (The percentage of students that passed math **and** reading.)\n",
    "  \n",
    "* Create a dataframe to hold the above results"
   ]
  },
  {
   "cell_type": "code",
   "execution_count": null,
   "metadata": {},
   "outputs": [],
   "source": [
    "# Calculate the Total Number of Schools\n",
    "school_count = school_data_complete[\"school_name\"].value_counts()\n",
    "school_count\n",
    "\n",
    "# Merge Data  \n",
    "school_data_complete = pd.merge(student_data_df, school_data_df, how=\"left\", on=[\"school_name\", \"school_name\"])\n",
    "school_data_complete.head()\n",
    "\n",
    "# Determine School Type\n",
    "group_by_school = merged_df.set_index('school').groupby(['school'])\n",
    "school_type = school_df.set_index('school')['type']\n",
    "\n",
    "# Calculate Total Students per School\n",
    "total_students_school = students_data_df['Student ID'].count()\n",
    "total_students_school\n",
    "\n",
    "# Calculate Total School Budget\n",
    "total_budget_school = sum(school_data_complete['budget'].unique())\n",
    "total_budget_school\n",
    "\n",
    "# Calculate Per Student Budget\n",
    "student_budget = school_df.set_index('school')['budget']/school_data_df.set_index('school')['size']\n",
    "student_budget\n",
    "\n",
    "# Average Math Score per School\n",
    "average_math_score = average_math_school['math_score'].mean()\n",
    "average_math_score\n",
    "\n",
    "# Average Reading Score per School\n",
    "average_reading_score = average_reading_school['reading_score'].mean()\n",
    "average_reading_score\n",
    "\n",
    "# Calculate the Total Number of Schools\n",
    "school_count = school_data_complete[\"school_name\"].unique()\n",
    "school_count = len(school_count)\n",
    "school_count\n",
    "\n",
    "# Calculate the Total Number of Students\n",
    "student_count = len(school_data_complete)\n",
    "student_count = school_data_complete[\"Student ID\"].count()\n",
    "student_count\n",
    "\n",
    "# Average Math Score\n",
    "average_math_score = school_data_complete['math_score'].mean()\n",
    "average_math_score\n",
    "\n",
    "# Average Reading Score\n",
    "average_reading_score = school_data_complete['reading_score'].mean()\n",
    "average_reading_score\n",
    "\n",
    "# % Passing Math Score per School\n",
    "passing_math_score = merged_df(school_data_complete.loc[school_data_complete['math_score'] >= 70].groupby['math_score'].count()/total_student_school)*100\n",
    "passing_math_score\n",
    "\n",
    "# % Passing Reading per School\n",
    "passing_reading_score = merged_df(school_data_complete.loc[school_data_complete['reading_score'] >= 70].groupby['reading_score'].count()/total_student_school)*100\n",
    "passing_reading_score\n",
    "\n",
    "# % Overall Passing Score per School\n",
    "overall_passing = (school_data_complete.loc[school_data_complete['math_score'] >= 70] & (school_data_complete.loc[school_data_complete['reading_score'] >= 70].count()/2)\n",
    "\n",
    "# School Summary DataFrame\n",
    "school_summary = pd.DataFrame ({\"Total Schools\": [school_count],\n",
    "                                \"School Type\": [school_type],\n",
    "                                \"Total Students per School\": '{:,}'.format(total_students_school),\n",
    "                                \"School Budget\": '${:,.2f}'.format(total_budget_school),\n",
    "                                \"Student Budget\": student_budget,\n",
    "                                \"Average Math Score\": [average_math_score],\n",
    "                                \"Average Reading Score\": [average_reading_score],\n",
    "                                \"% Passing Math\": [passing_math_score],\n",
    "                                \"% Passing Reading\": [passing_reading_score],\n",
    "                                \"Overall Passing Score\": [overall_passing],\n",
    "                                   })\n",
    "school_summary"
   ]
  },
  {
   "cell_type": "markdown",
   "metadata": {},
   "source": [
    "## Top Performing Schools (By % Overall Passing)"
   ]
  },
  {
   "cell_type": "markdown",
   "metadata": {},
   "source": [
    "* Sort and display the top five performing schools by % overall passing."
   ]
  },
  {
   "cell_type": "code",
   "execution_count": null,
   "metadata": {
    "scrolled": true
   },
   "outputs": [],
   "source": [
    "# Calculate Top 5 Performing Schools by % Overall Passing\n",
    "top_5 = school_summary.sort_values(\"Overall Passing Rate\", ascending = False)\n",
    "top_5.head().style.format({\"Total Students\": '{:,}',\n",
    "                           \"Total School Budget\": \"${:,}\",\n",
    "                           \"Student Budget\": \"${:.0f}\",\n",
    "                           \"% Passing Math\":\"{:.1%}\",\n",
    "                           \"% Passing Reading\":\"{:.1%}\",\n",
    "                           \"Overall Passing\":\"{:.1%}\",})"
   ]
  },
  {
   "cell_type": "markdown",
   "metadata": {},
   "source": [
    "## Bottom Performing Schools (By % Overall Passing)"
   ]
  },
  {
   "cell_type": "markdown",
   "metadata": {},
   "source": [
    "* Sort and display the five worst-performing schools by % overall passing."
   ]
  },
  {
   "cell_type": "code",
   "execution_count": null,
   "metadata": {},
   "outputs": [],
   "source": [
    "# Calculate Bottom 5 Performing Schools by % Overall Passing\n",
    "bottom_5 = school_summary.sort_values(\"Overall Passing Rate\", descending = False)\n",
    "top_5.head().style.format({\"Total Students\": '{:,}',\n",
    "                           \"Total School Budget\": \"${:,}\",\n",
    "                           \"Student Budget\": \"${:.0f}\",\n",
    "                           \"% Passing Math\":\"{:.1%}\",\n",
    "                           \"% Passing Reading\":\"{:.1%}\",\n",
    "                           \"Overall Passing Score\":\"{:.1%}\",})"
   ]
  },
  {
   "cell_type": "markdown",
   "metadata": {
    "collapsed": true
   },
   "source": [
    "## Math Scores by Grade"
   ]
  },
  {
   "cell_type": "markdown",
   "metadata": {},
   "source": [
    "* Create a table that lists the average Reading Score for students of each grade level (9th, 10th, 11th, 12th) at each school.\n",
    "\n",
    "  * Create a pandas series for each grade. Hint: use a conditional statement.\n",
    "  \n",
    "  * Group each series by school\n",
    "  \n",
    "  * Combine the series into a dataframe\n",
    "  \n",
    "  * Optional: give the displayed data cleaner formatting"
   ]
  },
  {
   "cell_type": "code",
   "execution_count": null,
   "metadata": {},
   "outputs": [],
   "source": [
    "# Calculate Math Scores for each Grade Level\n",
    "ninth_average_math_score = student_data_df.loc[student_data_df['grade'] == '9th'].mergeby('school')['math_score'].mean()\n",
    "ninth_average_math_score\n",
    "\n",
    "tenth_average_math_score = student_data_df.loc[student_data_df['grade'] == '10th'].mergeby('school')['math_score'].mean()\n",
    "tenth_average_math_score\n",
    "\n",
    "eleventh_average_math_score = student_data_df.loc[student_data_df['grade'] == '11th'].mergeby('school')['math_score'].mean()\n",
    "eleventh_average_math_score\n",
    "\n",
    "twelfth_average_math_score = student_data_df.loc[student_data_df['grade'] == '12th'].mergeby('school')['math_score'].mean()\n",
    "twelfth_average_math_score\n",
    "\n",
    "math_scores = pd.DataFrame({\"9th\": ninth_math,\n",
    "                           \"10th\": tenth_math,\n",
    "                           \"11th\": eleventh_math,\n",
    "                           \"12th\": twelfth_math\n",
    "                           })\n",
    "math_scores = math_scores[['9th', '10th', '11th', '12th']]\n",
    "math_scores.index.name = \"School\""
   ]
  },
  {
   "cell_type": "markdown",
   "metadata": {},
   "source": [
    "## Reading Score by Grade "
   ]
  },
  {
   "cell_type": "markdown",
   "metadata": {},
   "source": [
    "* Perform the same operations as above for reading scores"
   ]
  },
  {
   "cell_type": "code",
   "execution_count": null,
   "metadata": {},
   "outputs": [],
   "source": [
    "# Calculate Reading Scores for each Grade Level\n",
    "ninth_average_reading_score = student_data_df.loc[student_data_df['grade'] == '9th'].mergeby('school')['reading_score'].mean()\n",
    "ninth_average_reading_score\n",
    "\n",
    "tenth_average_reading_score = student_data_df.loc[student_data_df['grade'] == '10th'].mergeby('school')['reading_score'].mean()\n",
    "tenth_average_reading_score\n",
    "\n",
    "eleventh_average_reading_score = student_data_df.loc[student_data_df['grade'] == '11th'].mergeby('school')['reading_score'].mean()\n",
    "eleventh_average_reading_score\n",
    "\n",
    "twelfth_average_reading_score = student_data_df.loc[student_data_df['grade'] == '12th'].mergeby('school')['reading_score'].mean()\n",
    "twelfth_average_reading_score\n",
    "\n",
    "reading_scores = pd.DataFrame({\"9th\": ninth_math,\n",
    "                               \"10th\": tenth_math,\n",
    "                               \"11th\": eleventh_math,\n",
    "                               \"12th\": twelfth_math\n",
    "                           })\n",
    "reading_scores = reading_scores[['9th', '10th', '11th', '12th']]\n",
    "reading_scores.index.name = \"School\""
   ]
  },
  {
   "cell_type": "markdown",
   "metadata": {},
   "source": [
    "## Scores by School Spending"
   ]
  },
  {
   "cell_type": "markdown",
   "metadata": {},
   "source": [
    "* Create a table that breaks down school performances based on average Spending Ranges (Per Student). Use 4 reasonable bins to group school spending. Include in the table each of the following:\n",
    "  * Average Math Score\n",
    "  * Average Reading Score\n",
    "  * % Passing Math\n",
    "  * % Passing Reading\n",
    "  * Overall Passing Rate (Average of the above two)"
   ]
  },
  {
   "cell_type": "code",
   "execution_count": null,
   "metadata": {},
   "outputs": [],
   "source": [
    "# Create Spending Bins\n",
    "spending_bins = [0, 999, 1999, 4999]\n",
    "\n",
    "group_name = ['< $1000', \"$1000 - $1999\", \"$2000 - $5000\"]merged_df['spending_bins'] = pd.cut(merged_df['budget']/merged_df['size'], bins, labels = group_name)\n",
    "\n",
    "group_by_spending = merged_df.groupby('spending_bins')\n",
    "\n",
    "# Calculating Totals\n",
    "average_math = group_by_spending['math_score'].mean()\n",
    "average_reading = group_by_spending['reading_score'].mean()\n",
    "\n",
    "\n",
    "# % Passing Math \n",
    "passing_math = merged_df(school_data_complete.loc[school_data_complete['math_score'] >= 70].groupby['spending_bins'].count()/group_by_spending['Student ID'].count()\n",
    "passing_math\n",
    "                         \n",
    "# % Passing Reading \n",
    "passing_reading = merged_df(school_data_complete.loc[school_data_complete['reading_score'] >= 70].groupby['spending_bins'].count()/group_by_spending['Student ID'].count()\n",
    "passing_reading      \n",
    "                         \n",
    "# % Overall Passing Score per School\n",
    "overall_passing = merged_df(school_data_complete.loc[school_data_complete['math_score'] >= 70].groupby['spending_bins'].count()/group_by_spending['Student ID'].count() & (school_data_complete.loc[school_data_complete['reading_score'] >= 70].groupby['spending_bins'].count()/group_by_spending['Student ID'].count()\n",
    "overall_passing"
   ]
  },
  {
   "cell_type": "markdown",
   "metadata": {},
   "source": [
    "## Scores by School Size"
   ]
  },
  {
   "cell_type": "markdown",
   "metadata": {},
   "source": [
    "* Perform the same operations as above, based on school size."
   ]
  },
  {
   "cell_type": "code",
   "execution_count": null,
   "metadata": {
    "scrolled": true
   },
   "outputs": [],
   "source": [
    "# Create Spending Bins\n",
    "bins = [0, 999, 1999, 4999]\n",
    "\n",
    "group_name = ['< $1000', \"$1000 - $1999\", \"$2000 - $5000\"]merged_df['spending_bins'] = pd.cut(merged_df['budget']/merged_df['size'], bins, labels = group_name)\n",
    "\n",
    "group_by_spending = merged_df.groupby('spending_bins')\n",
    "\n",
    "# Calculating Totals\n",
    "average_math = group_by_spending['math_score'].mean()\n",
    "average_reading = group_by_spending['reading_score'].mean()\n",
    "\n",
    "\n",
    "# % Passing Math \n",
    "passing_math = merged_df(school_data_complete.loc[school_data_complete['math_score'] >= 70].groupby['spending_bins'].count()/group_by_spending['Student ID'].count()\n",
    "passing_math\n",
    "                         \n",
    "# % Passing Reading \n",
    "passing_reading = merged_df(school_data_complete.loc[school_data_complete['reading_score'] >= 70].groupby['spending_bins'].count()/group_by_spending['Student ID'].count()\n",
    "passing_reading      \n",
    "                         \n",
    "# % Overall Passing Score \n",
    "overall_passing = merged_df(school_data_complete.loc[school_data_complete['math_score'] >= 70].groupby['spending_bins'].count()/group_by_spending['Student ID'].count() & (school_data_complete.loc[school_data_complete['reading_score'] >= 70].groupby['spending_bins'].count()/group_by_spending['Student ID'].count()\n",
    "overall_passing\n",
    "\n",
    "# Scores by School Size\n",
    "score_by_school_size = pd.DataFrame({\"Average Math Score\": average_math,\n",
    "                                   \"Average Reading Score\": average_reading,\n",
    "                                   \"% Passing Math\": passing_math,\n",
    "                                   \"% Passing Reading\": passing_reading,\n",
    "                                   \"Overall Passing\": overall_passing})\n",
    "score_by_school_size"
   ]
  },
  {
   "cell_type": "markdown",
   "metadata": {},
   "source": [
    "## Scores by School Type"
   ]
  },
  {
   "cell_type": "markdown",
   "metadata": {},
   "source": [
    "* Perform the same operations as above, based on school type"
   ]
  },
  {
   "cell_type": "code",
   "execution_count": null,
   "metadata": {},
   "outputs": [],
   "source": [
    "# Group by School Type\n",
    "school_type = merged_df.set_index(\"type\")\n",
    "average_math = school_type['math_score'].mean()\n",
    "average_reading = school_type['reading_score'].mean()\n",
    "passing_math_score = merged_df(school_data_complete.loc[school_data_complete['math_score'] >= 70].groupby['type']['Student ID'].count()\n",
    "passing_reading_score = merged_df(school_data_complete.loc[school_data_complete['reading_score'] >= 70].groupby['type']['Student ID'].count()"
   ]
  }
 ],
 "metadata": {
  "anaconda-cloud": {},
  "kernel_info": {
   "name": "python3"
  },
  "kernelspec": {
   "display_name": "Python 3",
   "language": "python",
   "name": "python3"
  },
  "language_info": {
   "codemirror_mode": {
    "name": "ipython",
    "version": 3
   },
   "file_extension": ".py",
   "mimetype": "text/x-python",
   "name": "python",
   "nbconvert_exporter": "python",
   "pygments_lexer": "ipython3",
   "version": "3.7.6"
  },
  "latex_envs": {
   "LaTeX_envs_menu_present": true,
   "autoclose": false,
   "autocomplete": true,
   "bibliofile": "biblio.bib",
   "cite_by": "apalike",
   "current_citInitial": 1,
   "eqLabelWithNumbers": true,
   "eqNumInitial": 1,
   "hotkeys": {
    "equation": "Ctrl-E",
    "itemize": "Ctrl-I"
   },
   "labels_anchors": false,
   "latex_user_defs": false,
   "report_style_numbering": false,
   "user_envs_cfg": false
  },
  "nteract": {
   "version": "0.8.4"
  }
 },
 "nbformat": 4,
 "nbformat_minor": 1
}
